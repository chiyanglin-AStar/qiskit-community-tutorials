{
  "cells": [
    {
      "cell_type": "markdown",
      "metadata": {
        "id": "view-in-github",
        "colab_type": "text"
      },
      "source": [
        "<a href=\"https://colab.research.google.com/github/chiyanglin-AStar/qiskit-community-tutorials/blob/master/Coding_With_Qiskit/ep3_Hello_World_colab.ipynb\" target=\"_parent\"><img src=\"https://colab.research.google.com/assets/colab-badge.svg\" alt=\"Open In Colab\"/></a>"
      ]
    },
    {
      "cell_type": "markdown",
      "metadata": {
        "id": "JAjHp3WTQtwz"
      },
      "source": [
        "### Coding with Qiskit Episode 3   \n",
        "### this have been modified for qiskit 1.0 and run in colab\n",
        "\n",
        "# Hello World!"
      ]
    },
    {
      "cell_type": "markdown",
      "metadata": {
        "id": "PhEJe_wHQtw_"
      },
      "source": [
        "In this episode of Coding with Qiskit, we built our first Hello World application.\n",
        "\n",
        "The application first entangled two qubits which were initially in the state $\\vert00\\rangle$. Then, we noted the results by running the application on a simulator as well as real quantum hardware at IBM.\n",
        "\n",
        "This Jupyter notebook shows the code that was used in the video, as well as updates in the latest version of Qiskit.\n",
        "\n",
        "**Link to Episode 3:** https://www.youtube.com/watch?v=RrUTwq5jKM4"
      ]
    },
    {
      "cell_type": "code",
      "execution_count": null,
      "metadata": {
        "colab": {
          "base_uri": "https://localhost:8080/",
          "height": 561
        },
        "id": "Zuia7NimQtxB",
        "outputId": "d371782c-e3f7-42b2-d2f1-fd8130b5cfa8"
      },
      "outputs": [
        {
          "output_type": "execute_result",
          "data": {
            "text/plain": [
              "<IPython.lib.display.IFrame at 0x7a9d294cb490>"
            ],
            "text/html": [
              "\n",
              "        <iframe\n",
              "            width=\"960.0\"\n",
              "            height=\"540.0\"\n",
              "            src=\"http://www.youtube.com/embed/RrUTwq5jKM4\"\n",
              "            frameborder=\"0\"\n",
              "            allowfullscreen\n",
              "            \n",
              "        ></iframe>\n",
              "        "
            ]
          },
          "metadata": {},
          "execution_count": 18
        }
      ],
      "source": [
        "from IPython.display import IFrame\n",
        "IFrame(src=\"http://www.youtube.com/embed/RrUTwq5jKM4\", width=1920/2, height=1080/2)"
      ]
    },
    {
      "cell_type": "markdown",
      "metadata": {
        "id": "cxssiwmLQtxF"
      },
      "source": [
        "# Building the circuit"
      ]
    },
    {
      "cell_type": "code",
      "source": [
        "!pip install qiskit\n",
        "!pip install qiskit[visualization]"
      ],
      "metadata": {
        "colab": {
          "base_uri": "https://localhost:8080/"
        },
        "id": "Vdv3oInLS6iU",
        "outputId": "02aa0303-c538-4f68-c9f7-0e48e09e82ce"
      },
      "execution_count": null,
      "outputs": [
        {
          "output_type": "stream",
          "name": "stdout",
          "text": [
            "Requirement already satisfied: qiskit in /usr/local/lib/python3.10/dist-packages (1.3.0)\n",
            "Requirement already satisfied: rustworkx>=0.15.0 in /usr/local/lib/python3.10/dist-packages (from qiskit) (0.15.1)\n",
            "Requirement already satisfied: numpy<3,>=1.17 in /usr/local/lib/python3.10/dist-packages (from qiskit) (1.26.4)\n",
            "Requirement already satisfied: scipy>=1.5 in /usr/local/lib/python3.10/dist-packages (from qiskit) (1.13.1)\n",
            "Requirement already satisfied: sympy>=1.3 in /usr/local/lib/python3.10/dist-packages (from qiskit) (1.13.1)\n",
            "Requirement already satisfied: dill>=0.3 in /usr/local/lib/python3.10/dist-packages (from qiskit) (0.3.9)\n",
            "Requirement already satisfied: python-dateutil>=2.8.0 in /usr/local/lib/python3.10/dist-packages (from qiskit) (2.8.2)\n",
            "Requirement already satisfied: stevedore>=3.0.0 in /usr/local/lib/python3.10/dist-packages (from qiskit) (5.4.0)\n",
            "Requirement already satisfied: typing-extensions in /usr/local/lib/python3.10/dist-packages (from qiskit) (4.12.2)\n",
            "Requirement already satisfied: symengine<0.14,>=0.11 in /usr/local/lib/python3.10/dist-packages (from qiskit) (0.13.0)\n",
            "Requirement already satisfied: six>=1.5 in /usr/local/lib/python3.10/dist-packages (from python-dateutil>=2.8.0->qiskit) (1.16.0)\n",
            "Requirement already satisfied: pbr>=2.0.0 in /usr/local/lib/python3.10/dist-packages (from stevedore>=3.0.0->qiskit) (6.1.0)\n",
            "Requirement already satisfied: mpmath<1.4,>=1.1.0 in /usr/local/lib/python3.10/dist-packages (from sympy>=1.3->qiskit) (1.3.0)\n",
            "Requirement already satisfied: qiskit[visualization] in /usr/local/lib/python3.10/dist-packages (1.3.0)\n",
            "Requirement already satisfied: rustworkx>=0.15.0 in /usr/local/lib/python3.10/dist-packages (from qiskit[visualization]) (0.15.1)\n",
            "Requirement already satisfied: numpy<3,>=1.17 in /usr/local/lib/python3.10/dist-packages (from qiskit[visualization]) (1.26.4)\n",
            "Requirement already satisfied: scipy>=1.5 in /usr/local/lib/python3.10/dist-packages (from qiskit[visualization]) (1.13.1)\n",
            "Requirement already satisfied: sympy>=1.3 in /usr/local/lib/python3.10/dist-packages (from qiskit[visualization]) (1.13.1)\n",
            "Requirement already satisfied: dill>=0.3 in /usr/local/lib/python3.10/dist-packages (from qiskit[visualization]) (0.3.9)\n",
            "Requirement already satisfied: python-dateutil>=2.8.0 in /usr/local/lib/python3.10/dist-packages (from qiskit[visualization]) (2.8.2)\n",
            "Requirement already satisfied: stevedore>=3.0.0 in /usr/local/lib/python3.10/dist-packages (from qiskit[visualization]) (5.4.0)\n",
            "Requirement already satisfied: typing-extensions in /usr/local/lib/python3.10/dist-packages (from qiskit[visualization]) (4.12.2)\n",
            "Requirement already satisfied: symengine<0.14,>=0.11 in /usr/local/lib/python3.10/dist-packages (from qiskit[visualization]) (0.13.0)\n",
            "Requirement already satisfied: matplotlib>=3.3 in /usr/local/lib/python3.10/dist-packages (from qiskit[visualization]) (3.8.0)\n",
            "Requirement already satisfied: pydot in /usr/local/lib/python3.10/dist-packages (from qiskit[visualization]) (3.0.2)\n",
            "Requirement already satisfied: Pillow>=4.2.1 in /usr/local/lib/python3.10/dist-packages (from qiskit[visualization]) (11.0.0)\n",
            "Requirement already satisfied: pylatexenc>=1.4 in /usr/local/lib/python3.10/dist-packages (from qiskit[visualization]) (2.10)\n",
            "Requirement already satisfied: seaborn>=0.9.0 in /usr/local/lib/python3.10/dist-packages (from qiskit[visualization]) (0.13.2)\n",
            "Requirement already satisfied: contourpy>=1.0.1 in /usr/local/lib/python3.10/dist-packages (from matplotlib>=3.3->qiskit[visualization]) (1.3.1)\n",
            "Requirement already satisfied: cycler>=0.10 in /usr/local/lib/python3.10/dist-packages (from matplotlib>=3.3->qiskit[visualization]) (0.12.1)\n",
            "Requirement already satisfied: fonttools>=4.22.0 in /usr/local/lib/python3.10/dist-packages (from matplotlib>=3.3->qiskit[visualization]) (4.55.0)\n",
            "Requirement already satisfied: kiwisolver>=1.0.1 in /usr/local/lib/python3.10/dist-packages (from matplotlib>=3.3->qiskit[visualization]) (1.4.7)\n",
            "Requirement already satisfied: packaging>=20.0 in /usr/local/lib/python3.10/dist-packages (from matplotlib>=3.3->qiskit[visualization]) (24.2)\n",
            "Requirement already satisfied: pyparsing>=2.3.1 in /usr/local/lib/python3.10/dist-packages (from matplotlib>=3.3->qiskit[visualization]) (3.2.0)\n",
            "Requirement already satisfied: six>=1.5 in /usr/local/lib/python3.10/dist-packages (from python-dateutil>=2.8.0->qiskit[visualization]) (1.16.0)\n",
            "Requirement already satisfied: pandas>=1.2 in /usr/local/lib/python3.10/dist-packages (from seaborn>=0.9.0->qiskit[visualization]) (2.2.2)\n",
            "Requirement already satisfied: pbr>=2.0.0 in /usr/local/lib/python3.10/dist-packages (from stevedore>=3.0.0->qiskit[visualization]) (6.1.0)\n",
            "Requirement already satisfied: mpmath<1.4,>=1.1.0 in /usr/local/lib/python3.10/dist-packages (from sympy>=1.3->qiskit[visualization]) (1.3.0)\n",
            "Requirement already satisfied: pytz>=2020.1 in /usr/local/lib/python3.10/dist-packages (from pandas>=1.2->seaborn>=0.9.0->qiskit[visualization]) (2024.2)\n",
            "Requirement already satisfied: tzdata>=2022.7 in /usr/local/lib/python3.10/dist-packages (from pandas>=1.2->seaborn>=0.9.0->qiskit[visualization]) (2024.2)\n"
          ]
        }
      ]
    },
    {
      "cell_type": "markdown",
      "metadata": {
        "id": "Snct6CMWQtxG"
      },
      "source": [
        "We begin by importing Qiskit."
      ]
    },
    {
      "cell_type": "code",
      "execution_count": null,
      "metadata": {
        "id": "SFDQiKi6QtxH"
      },
      "outputs": [],
      "source": [
        "from qiskit import *"
      ]
    },
    {
      "cell_type": "markdown",
      "metadata": {
        "id": "X4ay2UWwQtxH"
      },
      "source": [
        "In the video, we initialized two qubits into a `QuantumRegister` and two classical bits into a `ClassicalRegister` by writing"
      ]
    },
    {
      "cell_type": "code",
      "execution_count": null,
      "metadata": {
        "id": "Zbj7GFdTQtxJ"
      },
      "outputs": [],
      "source": [
        "qr = QuantumRegister(2)\n",
        "cr = ClassicalRegister(2)"
      ]
    },
    {
      "cell_type": "markdown",
      "metadata": {
        "id": "OImQHIPiQtxN"
      },
      "source": [
        "Then we built a `QuantumCircuit` composed of the two classical and quantum bits by saying"
      ]
    },
    {
      "cell_type": "code",
      "execution_count": null,
      "metadata": {
        "id": "5w1GOFVKQtxP"
      },
      "outputs": [],
      "source": [
        "circuit = QuantumCircuit(qr, cr)"
      ]
    },
    {
      "cell_type": "markdown",
      "metadata": {
        "id": "sZiotdOoQtxR"
      },
      "source": [
        "The above three lines of code can be simplified into one line by writing"
      ]
    },
    {
      "cell_type": "code",
      "execution_count": null,
      "metadata": {
        "id": "J4_H3TWsQtxS"
      },
      "outputs": [],
      "source": [
        "circuit = QuantumCircuit(2,2)"
      ]
    },
    {
      "cell_type": "markdown",
      "metadata": {
        "id": "iKRfl8XYQtxS"
      },
      "source": [
        "where the first argument is the number of quantum bits, and the second argument is the number of classical bits. This is the recommended way of creating circuits."
      ]
    },
    {
      "cell_type": "markdown",
      "metadata": {
        "id": "Ufe39ksDQtxT"
      },
      "source": [
        "Once you create your circuit, you can draw it at any point by writing"
      ]
    },
    {
      "cell_type": "code",
      "execution_count": null,
      "metadata": {
        "colab": {
          "base_uri": "https://localhost:8080/",
          "height": 125
        },
        "id": "nA6ugtLJQtxT",
        "outputId": "c017f75a-022f-4937-b8f3-e2e75cbe5cbf"
      },
      "outputs": [
        {
          "output_type": "execute_result",
          "data": {
            "text/plain": [
              "     \n",
              "q_0: \n",
              "     \n",
              "q_1: \n",
              "     \n",
              "c: 2/\n",
              "     "
            ],
            "text/html": [
              "<pre style=\"word-wrap: normal;white-space: pre;background: #fff0;line-height: 1.1;font-family: &quot;Courier New&quot;,Courier,monospace\">     \n",
              "q_0: \n",
              "     \n",
              "q_1: \n",
              "     \n",
              "c: 2/\n",
              "     </pre>"
            ]
          },
          "metadata": {},
          "execution_count": 24
        }
      ],
      "source": [
        "circuit.draw()"
      ]
    },
    {
      "cell_type": "markdown",
      "metadata": {
        "id": "TrOUL-w9QtxU"
      },
      "source": [
        "For a plot based on `matplotlib`, use instead"
      ]
    },
    {
      "cell_type": "code",
      "execution_count": null,
      "metadata": {
        "colab": {
          "base_uri": "https://localhost:8080/",
          "height": 255
        },
        "id": "6hEsz17gQtxU",
        "outputId": "b81e1745-ebac-4c91-a134-c7662b99f9b5"
      },
      "outputs": [
        {
          "output_type": "execute_result",
          "data": {
            "text/plain": [
              "<Figure size 161.878x284.278 with 1 Axes>"
            ],
            "image/png": "[encoded data removed]"
          },
          "metadata": {},
          "execution_count": 25
        }
      ],
      "source": [
        "%matplotlib inline\n",
        "circuit.draw(output='mpl')"
      ]
    },
    {
      "cell_type": "markdown",
      "metadata": {
        "id": "patkaXC2QtxU"
      },
      "source": [
        "Note that you only need to run the `%matplotlib inline` command once in your notebook."
      ]
    },
    {
      "cell_type": "markdown",
      "metadata": {
        "id": "eKPMU9rDQtxV"
      },
      "source": [
        "Next, let's add the gates."
      ]
    },
    {
      "cell_type": "code",
      "execution_count": null,
      "metadata": {
        "colab": {
          "base_uri": "https://localhost:8080/",
          "height": 255
        },
        "id": "EKbzCJ1PQtxV",
        "outputId": "0fe12950-9f88-4ae9-fdd0-27fb9a372f76"
      },
      "outputs": [
        {
          "output_type": "execute_result",
          "data": {
            "text/plain": [
              "<Figure size 454.517x284.278 with 1 Axes>"
            ],
            "image/png": "[encoded data removed]"
          },
          "metadata": {},
          "execution_count": 26
        }
      ],
      "source": [
        "# the quantum circuit has two qubits. they are indexed as qubits 0 and 1\n",
        "circuit.h(0)\n",
        "circuit.cx(0,1) # order is control, target\n",
        "circuit.measure([0,1], [0,1]) # qubits [0,1] are measured and results are stored in classical bits [0,1] in order\n",
        "circuit.draw(output='mpl')"
      ]
    },
    {
      "cell_type": "markdown",
      "metadata": {
        "id": "cwaXD7JzQtxW"
      },
      "source": [
        "# Running on a simulator"
      ]
    },
    {
      "cell_type": "markdown",
      "metadata": {
        "id": "KYXR-UHbQtxW"
      },
      "source": [
        "We begin by setting the simulator to `qasm_simulator` from the Aer element of Qiskit."
      ]
    },
    {
      "cell_type": "code",
      "source": [
        "#from qiskit.providers.basic_provider import BasicSimulator\n",
        "#backend = BasicSimulator()"
      ],
      "metadata": {
        "id": "K8wAuJcU71xI"
      },
      "execution_count": null,
      "outputs": []
    },
    {
      "cell_type": "code",
      "source": [
        "#from qiskit import BasicAer\n",
        "#simulator = get_backend(\"qasm_simulator\")\n",
        "#result = backend.run(qc).result()"
      ],
      "metadata": {
        "id": "NfmTJ0FC8flc"
      },
      "execution_count": null,
      "outputs": []
    },
    {
      "cell_type": "code",
      "execution_count": null,
      "metadata": {
        "id": "-nvyv_rhQtxX"
      },
      "outputs": [],
      "source": [
        "#simulator = Aer.get_backend('qasm_simulator')"
      ]
    },
    {
      "cell_type": "markdown",
      "metadata": {
        "id": "EsniBfloQtxX"
      },
      "source": [
        "Then, we execute the circuit on the simulator and store the results in a variable called `result`."
      ]
    },
    {
      "cell_type": "code",
      "execution_count": null,
      "metadata": {
        "id": "UtPwKQbGQtxY"
      },
      "outputs": [],
      "source": [
        "#result = execute(circuit, backend=simulator).result()"
      ]
    },
    {
      "cell_type": "markdown",
      "source": [
        "ref from [Qasm simulator change : ](https://docs.quantum.ibm.com/api/qiskit/release-notes/1.0)\n",
        "\n",
        "```\n",
        "# Former path\n",
        "from qiskit import BasicAer\n",
        "backend = BasicAer.get_backend(\"qasm_simulator\")\n",
        "result = backend.run(qc).result()\n",
        "\n",
        "# New path\n",
        "from qiskit.providers.basic_provider import BasicProvider\n",
        "backend = BasicProvider().get_backend(\"basic_simulator\")\n",
        "result = backend.run(qc).result()\n",
        "\n",
        "# or, directly\n",
        "from qiskit.providers.basic_provider import BasicSimulator\n",
        "backend = BasicSimulator()\n",
        "result = backend.run(qc).result()\n",
        "```"
      ],
      "metadata": {
        "id": "QIhmV6Q8WjL2"
      }
    },
    {
      "cell_type": "markdown",
      "metadata": {
        "id": "p9veSj7BQtxY"
      },
      "source": [
        "At this point, we are ready to plot the results of the simulator execution. To do this, first import the visualization tools from Qiskit using"
      ]
    },
    {
      "cell_type": "code",
      "source": [
        "# New path\n",
        "\n",
        "from qiskit.providers.basic_provider import BasicSimulator\n",
        "simulator = BasicSimulator()\n",
        "result = simulator.run(circuit).result()"
      ],
      "metadata": {
        "id": "p08WSN36X4ny"
      },
      "execution_count": null,
      "outputs": []
    },
    {
      "cell_type": "code",
      "execution_count": null,
      "metadata": {
        "id": "UY9sxPU_QtxZ"
      },
      "outputs": [],
      "source": [
        "from qiskit.visualization import plot_histogram"
      ]
    },
    {
      "cell_type": "markdown",
      "metadata": {
        "id": "W4ioJ5FkQtxZ"
      },
      "source": [
        "Then, we plot the results using"
      ]
    },
    {
      "cell_type": "code",
      "execution_count": null,
      "metadata": {
        "colab": {
          "base_uri": "https://localhost:8080/",
          "height": 437
        },
        "id": "cJ033wSEQtxa",
        "outputId": "4a5733ed-c366-41e9-b58a-2f671f5596be"
      },
      "outputs": [
        {
          "output_type": "execute_result",
          "data": {
            "text/plain": [
              "<Figure size 640x480 with 1 Axes>"
            ],
            "image/png": "[encoded data removed]"
          },
          "metadata": {},
          "execution_count": 32
        }
      ],
      "source": [
        "plot_histogram(result.get_counts(circuit))"
      ]
    },
    {
      "cell_type": "markdown",
      "metadata": {
        "id": "VpbPNc1HQtxa"
      },
      "source": [
        "# Running on real quantum hardware\n",
        "## This part need to reference [Migration_Guide_from_qiskit-ibmq-provider](https://github.com/Qiskit/qiskit-ibm-provider/blob/stable/0.6/docs/tutorials/Migration_Guide_from_qiskit-ibmq-provider.ipynb) for re-write"
      ]
    },
    {
      "cell_type": "markdown",
      "metadata": {
        "id": "6qVh3o2HQtxc"
      },
      "source": [
        "In order to run the circuit on real quantum hardware at IBM, we begin by loading our saved IBMQ account using"
      ]
    },
    {
      "cell_type": "code",
      "execution_count": 1,
      "metadata": {
        "id": "LLrQAAMFQtxc"
      },
      "outputs": [],
      "source": [
        "#I0BMQ.load_account()\n",
        "#provider = IBMQ.get_provider(hub = 'ibm-q')"
      ]
    },
    {
      "cell_type": "markdown",
      "metadata": {
        "id": "ln_K_wgvQtxd"
      },
      "source": [
        "Then, we choose the backend that we want to use in our run. In the video, we used"
      ]
    },
    {
      "cell_type": "code",
      "execution_count": null,
      "metadata": {
        "id": "6PH8JCI_Qtxd"
      },
      "outputs": [],
      "source": [
        "#qcomp = provider.get_backend('ibmq_16_melbourne')"
      ]
    },
    {
      "cell_type": "markdown",
      "metadata": {
        "id": "mRQXdZIDQtxe"
      },
      "source": [
        "Generally, if you have no preference on which backend you'd like to use, you can just ask for the least busy backend by using"
      ]
    },
    {
      "cell_type": "code",
      "execution_count": null,
      "metadata": {
        "id": "XakdHGJFQtxe"
      },
      "outputs": [],
      "source": [
        "#num_qubits = 2\n",
        "\n",
        "#from qiskit.providers.ibmq import least_busy\n",
        "#possible_devices = provider.backends(filters=lambda x:\n",
        "#                                    x.configuration().n_qubits >= num_qubits\n",
        "#                                       and\n",
        "#                                     x.configuration().simulator == False)\n",
        "#qcomp = least_busy(possible_devices)\n",
        "#print(qcomp)"
      ]
    },
    {
      "cell_type": "markdown",
      "metadata": {
        "id": "dht0_yLFQtxf"
      },
      "source": [
        "Once the backend is selected, we are ready to run the circuit just as before using the `execute` function. Before doing so, a useful feature is to run the job watcher that is available in the latest version of Qiskit using"
      ]
    },
    {
      "cell_type": "code",
      "execution_count": null,
      "metadata": {
        "id": "eGJitp2MQtxg"
      },
      "outputs": [],
      "source": [
        "#import qiskit.tools.jupyter\n",
        "#%qiskit_job_watcher"
      ]
    },
    {
      "cell_type": "code",
      "execution_count": null,
      "metadata": {
        "id": "A-lD4ZzDQtxg"
      },
      "outputs": [],
      "source": [
        "#job = execute(circuit, backend=qcomp)"
      ]
    },
    {
      "cell_type": "markdown",
      "metadata": {
        "id": "yJ8RrwjAQtxn"
      },
      "source": [
        "You can also monitor the job progress inline using the job monitor:"
      ]
    },
    {
      "cell_type": "code",
      "execution_count": null,
      "metadata": {
        "id": "Gzc9FaaJQtxn"
      },
      "outputs": [],
      "source": [
        "#from qiskit.tools.monitor import job_monitor\n",
        "#job_monitor(job)"
      ]
    },
    {
      "cell_type": "markdown",
      "metadata": {
        "id": "pZGeT6zyQtxo"
      },
      "source": [
        "Once the job runs sucessfully, we can visualize the results using `plot_histogram` as before using"
      ]
    },
    {
      "cell_type": "code",
      "execution_count": null,
      "metadata": {
        "id": "Lm0hhcmcQtxo"
      },
      "outputs": [],
      "source": [
        "#result = job.result()\n",
        "#plot_histogram(result.get_counts(circuit))"
      ]
    },
    {
      "cell_type": "markdown",
      "metadata": {
        "id": "qjakF2tEQtxo"
      },
      "source": [
        "You can close the job watcher window by using"
      ]
    },
    {
      "cell_type": "code",
      "execution_count": null,
      "metadata": {
        "colab": {
          "base_uri": "https://localhost:8080/"
        },
        "id": "vKEQM8LbQtxp",
        "outputId": "e50f183a-3062-40d0-a5ae-fb6859d678f9"
      },
      "outputs": [
        {
          "output_type": "stream",
          "name": "stderr",
          "text": [
            "UsageError: Line magic function `%qiskit_disable_job_watcher` not found.\n"
          ]
        }
      ],
      "source": [
        "%qiskit_disable_job_watcher"
      ]
    },
    {
      "cell_type": "markdown",
      "metadata": {
        "id": "57V2QYtBQtxp"
      },
      "source": [
        "# References"
      ]
    },
    {
      "cell_type": "markdown",
      "metadata": {
        "id": "P9qsCJClQtxq"
      },
      "source": [
        "For detailed information about Qiskit, check out the tutorials in the Github repository:\n",
        "\n",
        "https://github.com/Qiskit/qiskit-iqx-tutorials"
      ]
    },
    {
      "cell_type": "markdown",
      "metadata": {
        "id": "05cDeTGjQtxq"
      },
      "source": [
        "# Version"
      ]
    },
    {
      "cell_type": "markdown",
      "metadata": {
        "id": "Oo_OzXmoQtxt"
      },
      "source": [
        "It's good to note the Qiskit version that was used in your work. One way to do this is print the version at the bottom of the Jupyter notebook using"
      ]
    },
    {
      "cell_type": "code",
      "execution_count": null,
      "metadata": {
        "colab": {
          "base_uri": "https://localhost:8080/",
          "height": 141
        },
        "id": "KbjB1PsaQtxu",
        "outputId": "99f95b20-e744-480b-b5ea-4c8bc210ec36"
      },
      "outputs": [
        {
          "output_type": "error",
          "ename": "NameError",
          "evalue": "name 'qiskit' is not defined",
          "traceback": [
            "\u001b[0;31m---------------------------------------------------------------------------\u001b[0m",
            "\u001b[0;31mNameError\u001b[0m                                 Traceback (most recent call last)",
            "\u001b[0;32m<ipython-input-35-b1e25e63b429>\u001b[0m in \u001b[0;36m<cell line: 1>\u001b[0;34m()\u001b[0m\n\u001b[0;32m----> 1\u001b[0;31m \u001b[0mqiskit\u001b[0m\u001b[0;34m.\u001b[0m\u001b[0m__qiskit_version__\u001b[0m\u001b[0;34m\u001b[0m\u001b[0;34m\u001b[0m\u001b[0m\n\u001b[0m",
            "\u001b[0;31mNameError\u001b[0m: name 'qiskit' is not defined"
          ]
        }
      ],
      "source": [
        "#qiskit.__qiskit_version__"
      ]
    },
    {
      "cell_type": "code",
      "execution_count": null,
      "metadata": {
        "id": "Gn0aDihfQtxv"
      },
      "outputs": [],
      "source": [
        "#%qiskit_copyright"
      ]
    }
  ],
  "metadata": {
    "kernelspec": {
      "display_name": "Python 3",
      "language": "python",
      "name": "python3"
    },
    "language_info": {
      "codemirror_mode": {
        "name": "ipython",
        "version": 3
      },
      "file_extension": ".py",
      "mimetype": "text/x-python",
      "name": "python",
      "nbconvert_exporter": "python",
      "pygments_lexer": "ipython3",
      "version": "3.7.3"
    },
    "colab": {
      "provenance": [],
      "include_colab_link": true
    }
  },
  "nbformat": 4,
  "nbformat_minor": 0
}